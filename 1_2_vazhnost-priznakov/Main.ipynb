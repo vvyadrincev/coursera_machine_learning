{
 "cells": [
  {
   "cell_type": "code",
   "execution_count": 1,
   "metadata": {},
   "outputs": [],
   "source": [
    "import numpy as np\n",
    "import re\n",
    "import pandas\n",
    "\n",
    "from sklearn.tree import DecisionTreeClassifier\n",
    "\n",
    "import sys\n",
    "sys.path.append(\"../\")\n",
    "from utils import save_answ, logging"
   ]
  },
  {
   "cell_type": "markdown",
   "metadata": {},
   "source": [
    "### 1. Загрузите выборку из файла titanic.csv с помощью пакета Pandas.\n",
    "### 3. Обратите внимание, что признак Sex имеет строковые значения."
   ]
  },
  {
   "cell_type": "code",
   "execution_count": 2,
   "metadata": {},
   "outputs": [],
   "source": [
    "data = pandas.read_csv ('../titanic.csv', \n",
    "                        usecols=['Pclass', 'Fare', 'Age', 'Sex', 'Survived'])\n",
    "map_sex = {'female': 0, 'male': 1}\n",
    "data['Sex'] = data['Sex'].map(map_sex)"
   ]
  },
  {
   "cell_type": "markdown",
   "metadata": {},
   "source": [
    "### 5. В данных есть пропущенные значения — например, для некоторых пассажиров неизвестен их возраст. Такие записи при чтении их в pandas принимают значение nan. Найдите все объекты, у которых есть пропущенные признаки, и удалите их из выборки."
   ]
  },
  {
   "cell_type": "code",
   "execution_count": 3,
   "metadata": {},
   "outputs": [
    {
     "name": "stdout",
     "output_type": "stream",
     "text": [
      "Before delete NaNs:  891\n",
      "After delete NaNs:  714\n"
     ]
    }
   ],
   "source": [
    "print \"Before delete NaNs: \", len(data)\n",
    "data = data.dropna()\n",
    "print \"After delete NaNs: \", len(data)"
   ]
  },
  {
   "cell_type": "markdown",
   "metadata": {},
   "source": [
    "### 2. Оставьте в выборке четыре признака: класс пассажира (Pclass), цену билета (Fare), возраст пассажира (Age) и его пол (Sex).\n",
    "### 4 . Выделите целевую переменную — она записана в столбце Survived."
   ]
  },
  {
   "cell_type": "code",
   "execution_count": 4,
   "metadata": {},
   "outputs": [],
   "source": [
    "goal = data[['Survived']]\n",
    "data = data[['Pclass', 'Fare', 'Age', 'Sex']]"
   ]
  },
  {
   "cell_type": "code",
   "execution_count": 5,
   "metadata": {},
   "outputs": [
    {
     "name": "stdout",
     "output_type": "stream",
     "text": [
      "    Pclass     Fare   Age  Sex\n",
      "0        3   7.2500  22.0    1\n",
      "1        1  71.2833  38.0    0\n",
      "2        3   7.9250  26.0    0\n",
      "3        1  53.1000  35.0    0\n",
      "4        3   8.0500  35.0    1\n",
      "6        1  51.8625  54.0    1\n",
      "7        3  21.0750   2.0    1\n",
      "8        3  11.1333  27.0    0\n",
      "9        2  30.0708  14.0    0\n",
      "10       3  16.7000   4.0    0\n",
      "    Survived\n",
      "0          0\n",
      "1          1\n",
      "2          1\n",
      "3          1\n",
      "4          0\n",
      "6          0\n",
      "7          0\n",
      "8          1\n",
      "9          1\n",
      "10         1\n"
     ]
    }
   ],
   "source": [
    "print data.head(10)\n",
    "print goal.head(10)"
   ]
  },
  {
   "cell_type": "markdown",
   "metadata": {},
   "source": [
    "###  6. Обучите решающее дерево с параметром random_state=241 и остальными параметрами по умолчанию (речь идет о параметрах конструктора DecisionTreeСlassifier).\n"
   ]
  },
  {
   "cell_type": "code",
   "execution_count": 6,
   "metadata": {},
   "outputs": [
    {
     "data": {
      "text/plain": [
       "DecisionTreeClassifier(class_weight=None, criterion='gini', max_depth=None,\n",
       "            max_features=None, max_leaf_nodes=None,\n",
       "            min_impurity_decrease=0.0, min_impurity_split=None,\n",
       "            min_samples_leaf=1, min_samples_split=2,\n",
       "            min_weight_fraction_leaf=0.0, presort=False, random_state=241,\n",
       "            splitter='best')"
      ]
     },
     "execution_count": 6,
     "metadata": {},
     "output_type": "execute_result"
    }
   ],
   "source": [
    "clf = DecisionTreeClassifier(random_state=241)\n",
    "clf.fit(data, goal)"
   ]
  },
  {
   "cell_type": "markdown",
   "metadata": {},
   "source": [
    "### 7. Вычислите важности признаков и найдите два признака с наибольшей важностью. Их названия будут ответами для данной задачи (в качестве ответа укажите названия признаков через запятую или пробел, порядок не важен)."
   ]
  },
  {
   "cell_type": "code",
   "execution_count": 10,
   "metadata": {},
   "outputs": [
    {
     "name": "stdout",
     "output_type": "stream",
     "text": [
      "[ 0.14000522  0.30343647  0.2560461   0.30051221]\n",
      "Fare Sex\n"
     ]
    }
   ],
   "source": [
    "importances = clf.feature_importances_\n",
    "print importances\n",
    "\n",
    "count_of_important = 2\n",
    "\n",
    "two_most_important = data.keys()[importances.argsort()[::-1][:count_of_important]]\n",
    "\n",
    "answ = two_most_important[0]\n",
    "for i in range(1, count_of_important):\n",
    "    answ += u\" \" + two_most_important[i]\n",
    "    \n",
    "print answ"
   ]
  },
  {
   "cell_type": "code",
   "execution_count": 11,
   "metadata": {},
   "outputs": [
    {
     "name": "stdout",
     "output_type": "stream",
     "text": [
      "Rewrite 'answers/1_answ.txt'? [Y/N]Y\n"
     ]
    },
    {
     "name": "stderr",
     "output_type": "stream",
     "text": [
      "2017-12-10 01:53:54,942 INFO: root: Saved 'Fare Sex' to 'answers/1_answ.txt'\n"
     ]
    }
   ],
   "source": [
    "save_answ(number=1, answer=answ)"
   ]
  }
 ],
 "metadata": {
  "kernelspec": {
   "display_name": "Python 2",
   "language": "python",
   "name": "python2"
  },
  "language_info": {
   "codemirror_mode": {
    "name": "ipython",
    "version": 2
   },
   "file_extension": ".py",
   "mimetype": "text/x-python",
   "name": "python",
   "nbconvert_exporter": "python",
   "pygments_lexer": "ipython2",
   "version": "2.7.12"
  }
 },
 "nbformat": 4,
 "nbformat_minor": 2
}

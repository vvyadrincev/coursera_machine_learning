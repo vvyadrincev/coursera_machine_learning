{
 "cells": [
  {
   "cell_type": "code",
   "execution_count": 1,
   "metadata": {},
   "outputs": [],
   "source": [
    "import numpy as np\n",
    "import pandas\n",
    "from sklearn.linear_model import Perceptron\n",
    "from sklearn import preprocessing\n",
    "from sklearn.metrics import accuracy_score \n",
    "\n",
    "\n",
    "import sys\n",
    "sys.path.append(\"../\")\n",
    "from utils import save_answ, logging"
   ]
  },
  {
   "cell_type": "code",
   "execution_count": 20,
   "metadata": {},
   "outputs": [
    {
     "name": "stdout",
     "output_type": "stream",
     "text": [
      "(300, 2)\n",
      "(300,)\n",
      "(200, 2)\n",
      "(200,)\n"
     ]
    }
   ],
   "source": [
    "train_data = pandas.read_csv('perceptron-train.csv' , header=None)\n",
    "test_data  = pandas.read_csv('perceptron-test.csv'  , header=None)\n",
    "\n",
    "X_train = train_data.loc[:, 1:2]\n",
    "print X_train.shape\n",
    "y_train = train_data[0]\n",
    "print y_train.shape\n",
    "\n",
    "X_test = test_data.loc[:, 1:2]\n",
    "print X_test.shape\n",
    "y_test = test_data[0]\n",
    "print y_test.shape"
   ]
  },
  {
   "cell_type": "code",
   "execution_count": 21,
   "metadata": {},
   "outputs": [
    {
     "data": {
      "text/plain": [
       "Perceptron(alpha=0.0001, class_weight=None, eta0=1.0, fit_intercept=True,\n",
       "      max_iter=None, n_iter=None, n_jobs=1, penalty=None, random_state=241,\n",
       "      shuffle=True, tol=None, verbose=0, warm_start=False)"
      ]
     },
     "execution_count": 21,
     "metadata": {},
     "output_type": "execute_result"
    }
   ],
   "source": [
    "clf = Perceptron(random_state=241)\n",
    "clf.fit(X_train, y_train)"
   ]
  },
  {
   "cell_type": "code",
   "execution_count": 22,
   "metadata": {},
   "outputs": [
    {
     "name": "stdout",
     "output_type": "stream",
     "text": [
      "0.655\n",
      "Accuracy without scaling: 0.66\n"
     ]
    }
   ],
   "source": [
    "y_pred=clf.predict(X_test)\n",
    "accur_without_scaling = accuracy_score(y_test, y_pred)\n",
    "print accur_without_scaling\n",
    "print (\"Accuracy without scaling: %.2f\" % accur_without_scaling)"
   ]
  },
  {
   "cell_type": "code",
   "execution_count": 23,
   "metadata": {},
   "outputs": [],
   "source": [
    "scaler = preprocessing.StandardScaler()\n",
    "X_train_scaled = scaler.fit_transform(X_train)\n",
    "X_test_scaled = scaler.transform(X_test)"
   ]
  },
  {
   "cell_type": "code",
   "execution_count": 24,
   "metadata": {},
   "outputs": [
    {
     "data": {
      "text/plain": [
       "Perceptron(alpha=0.0001, class_weight=None, eta0=1.0, fit_intercept=True,\n",
       "      max_iter=None, n_iter=None, n_jobs=1, penalty=None, random_state=241,\n",
       "      shuffle=True, tol=None, verbose=0, warm_start=False)"
      ]
     },
     "execution_count": 24,
     "metadata": {},
     "output_type": "execute_result"
    }
   ],
   "source": [
    "clf = Perceptron(random_state=241)\n",
    "clf.fit(X_train_scaled, y_train)"
   ]
  },
  {
   "cell_type": "code",
   "execution_count": 25,
   "metadata": {},
   "outputs": [
    {
     "name": "stdout",
     "output_type": "stream",
     "text": [
      "0.845\n",
      "Accuracy after scaling: 0.84\n"
     ]
    }
   ],
   "source": [
    "y_pred=clf.predict(X_test_scaled)\n",
    "accur_after_scaling = accuracy_score(y_test, y_pred)\n",
    "print accur_after_scaling\n",
    "print (\"Accuracy after scaling: %.2f\" % accur_after_scaling)"
   ]
  },
  {
   "cell_type": "code",
   "execution_count": 26,
   "metadata": {},
   "outputs": [
    {
     "name": "stdout",
     "output_type": "stream",
     "text": [
      "Rewrite 'answers/1_answ.txt'? [Y/N]y\n"
     ]
    },
    {
     "name": "stderr",
     "output_type": "stream",
     "text": [
      "2017-12-16 01:50:29,108:Saved '0.190' to 'answers/1_answ.txt'\n"
     ]
    }
   ],
   "source": [
    "save_answ(number=1, answer=(\"%0.3f\" % (accur_after_scaling - accur_without_scaling ) ) )"
   ]
  }
 ],
 "metadata": {
  "kernelspec": {
   "display_name": "Python 2",
   "language": "python",
   "name": "python2"
  },
  "language_info": {
   "codemirror_mode": {
    "name": "ipython",
    "version": 2
   },
   "file_extension": ".py",
   "mimetype": "text/x-python",
   "name": "python",
   "nbconvert_exporter": "python",
   "pygments_lexer": "ipython2",
   "version": "2.7.12"
  }
 },
 "nbformat": 4,
 "nbformat_minor": 2
}

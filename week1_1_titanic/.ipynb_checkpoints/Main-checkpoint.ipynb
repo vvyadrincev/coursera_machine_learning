{
 "cells": [
  {
   "cell_type": "code",
   "execution_count": 1,
   "metadata": {},
   "outputs": [],
   "source": [
    "import numpy as np\n",
    "import re\n",
    "import pandas\n",
    "\n",
    "from utils import save_answ, logging"
   ]
  },
  {
   "cell_type": "code",
   "execution_count": 2,
   "metadata": {},
   "outputs": [
    {
     "name": "stdout",
     "output_type": "stream",
     "text": [
      "   PassengerId  Survived  Pclass  \\\n",
      "0            1         0       3   \n",
      "1            2         1       1   \n",
      "2            3         1       3   \n",
      "3            4         1       1   \n",
      "4            5         0       3   \n",
      "5            6         0       3   \n",
      "6            7         0       1   \n",
      "7            8         0       3   \n",
      "8            9         1       3   \n",
      "9           10         1       2   \n",
      "\n",
      "                                                Name     Sex   Age  SibSp  \\\n",
      "0                            Braund, Mr. Owen Harris    male  22.0      1   \n",
      "1  Cumings, Mrs. John Bradley (Florence Briggs Th...  female  38.0      1   \n",
      "2                             Heikkinen, Miss. Laina  female  26.0      0   \n",
      "3       Futrelle, Mrs. Jacques Heath (Lily May Peel)  female  35.0      1   \n",
      "4                           Allen, Mr. William Henry    male  35.0      0   \n",
      "5                                   Moran, Mr. James    male   NaN      0   \n",
      "6                            McCarthy, Mr. Timothy J    male  54.0      0   \n",
      "7                     Palsson, Master. Gosta Leonard    male   2.0      3   \n",
      "8  Johnson, Mrs. Oscar W (Elisabeth Vilhelmina Berg)  female  27.0      0   \n",
      "9                Nasser, Mrs. Nicholas (Adele Achem)  female  14.0      1   \n",
      "\n",
      "   Parch            Ticket     Fare Cabin Embarked  \n",
      "0      0         A/5 21171   7.2500   NaN        S  \n",
      "1      0          PC 17599  71.2833   C85        C  \n",
      "2      0  STON/O2. 3101282   7.9250   NaN        S  \n",
      "3      0            113803  53.1000  C123        S  \n",
      "4      0            373450   8.0500   NaN        S  \n",
      "5      0            330877   8.4583   NaN        Q  \n",
      "6      0             17463  51.8625   E46        S  \n",
      "7      1            349909  21.0750   NaN        S  \n",
      "8      2            347742  11.1333   NaN        S  \n",
      "9      0            237736  30.0708   NaN        C  \n"
     ]
    }
   ],
   "source": [
    "data = pandas.read_csv ('../titanic.csv')\n",
    "print data.head(10)"
   ]
  },
  {
   "cell_type": "markdown",
   "metadata": {},
   "source": [
    "### Task №1"
   ]
  },
  {
   "cell_type": "code",
   "execution_count": 3,
   "metadata": {},
   "outputs": [
    {
     "name": "stdout",
     "output_type": "stream",
     "text": [
      "Rewrite 'answers/1_answ.txt'? [Y/N]Y\n"
     ]
    },
    {
     "name": "stderr",
     "output_type": "stream",
     "text": [
      "2017-12-10 00:42:58,986 INFO: root: Saved '577 314' to 'answers/1_answ.txt'\n"
     ]
    }
   ],
   "source": [
    "res1 = data['Sex'].value_counts()\n",
    "save_answ(number=1, answer=(\"%i %i\" % (res1['male'], res1['female'])))"
   ]
  },
  {
   "cell_type": "markdown",
   "metadata": {},
   "source": [
    "### Task №2"
   ]
  },
  {
   "cell_type": "code",
   "execution_count": 4,
   "metadata": {},
   "outputs": [
    {
     "name": "stdout",
     "output_type": "stream",
     "text": [
      "Rewrite 'answers/2_answ.txt'? [Y/N]Y\n"
     ]
    },
    {
     "name": "stderr",
     "output_type": "stream",
     "text": [
      "2017-12-10 00:43:04,691 INFO: root: Saved '38.38' to 'answers/2_answ.txt'\n"
     ]
    }
   ],
   "source": [
    "s = data['Survived'].value_counts()\n",
    "p_s = 100. * s[1] / len(data)\n",
    "save_answ(number=2, answer=(\"%.2f\" % p_s) )"
   ]
  },
  {
   "cell_type": "markdown",
   "metadata": {},
   "source": [
    "### Task №3"
   ]
  },
  {
   "cell_type": "code",
   "execution_count": 5,
   "metadata": {},
   "outputs": [
    {
     "name": "stdout",
     "output_type": "stream",
     "text": [
      "Rewrite 'answers/3_answ.txt'? [Y/N]Y\n"
     ]
    },
    {
     "name": "stderr",
     "output_type": "stream",
     "text": [
      "2017-12-10 00:43:10,311 INFO: root: Saved '24.24' to 'answers/3_answ.txt'\n"
     ]
    }
   ],
   "source": [
    "pclasses =  ( data['Pclass'].value_counts() / len(data) ) * 100.\n",
    "#print pclasses[1]\n",
    "save_answ(number=3, answer=(\"%.2f\" % pclasses[1]) )"
   ]
  },
  {
   "cell_type": "markdown",
   "metadata": {},
   "source": [
    "### Task №4"
   ]
  },
  {
   "cell_type": "code",
   "execution_count": 6,
   "metadata": {},
   "outputs": [
    {
     "name": "stdout",
     "output_type": "stream",
     "text": [
      "Rewrite 'answers/4_answ.txt'? [Y/N]Y\n"
     ]
    },
    {
     "name": "stderr",
     "output_type": "stream",
     "text": [
      "2017-12-10 00:43:14,061 INFO: root: Saved '29.70 28.00' to 'answers/4_answ.txt'\n"
     ]
    }
   ],
   "source": [
    "age_mean   = data['Age'].mean()\n",
    "age_median = data['Age'].median()\n",
    "save_answ(number=4, answer=(\"%.2f %.2f\" % (age_mean, age_median)))"
   ]
  },
  {
   "cell_type": "markdown",
   "metadata": {},
   "source": [
    "### Task №5"
   ]
  },
  {
   "cell_type": "code",
   "execution_count": 8,
   "metadata": {},
   "outputs": [
    {
     "name": "stdout",
     "output_type": "stream",
     "text": [
      "Rewrite 'answers/5_answ.txt'? [Y/N]Y\n"
     ]
    },
    {
     "name": "stderr",
     "output_type": "stream",
     "text": [
      "2017-12-10 00:43:22,654 INFO: root: Saved '0.41' to 'answers/5_answ.txt'\n"
     ]
    }
   ],
   "source": [
    "corr = data.corr(method='pearson')['SibSp']['Parch']\n",
    "save_answ(number=5, answer=(\"%.2f\" % corr) )"
   ]
  },
  {
   "cell_type": "markdown",
   "metadata": {},
   "source": [
    "### Task №6"
   ]
  },
  {
   "cell_type": "code",
   "execution_count": 7,
   "metadata": {},
   "outputs": [
    {
     "name": "stdout",
     "output_type": "stream",
     "text": [
      "Rewrite 'answers/6_answ.txt'? [Y/N]Y\n"
     ]
    },
    {
     "name": "stderr",
     "output_type": "stream",
     "text": [
      "2017-12-10 00:43:18,634 INFO: root: Saved 'Anna' to 'answers/6_answ.txt'\n"
     ]
    }
   ],
   "source": [
    "# NOT CORRECT! \n",
    "def first_name_from_full_name (name):\n",
    "    return name.split(',')[1].split('.')[1].split()[0]\n",
    "\n",
    "# from https://github.com/jivoi/junk/blob/master/coursera_ml_yandex/w1/w1_a1\n",
    "def extract_first_name(name):\n",
    "    \"\"\"\n",
    "    Функция извлечения first name from name\n",
    "    :param name: name\n",
    "    :return: first name\n",
    "    \"\"\"\n",
    "    # первое слово в скобках\n",
    "    m = re.search(\".*\\\\((.*)\\\\).*\", name)\n",
    "    if m is not None:\n",
    "        return m.group(1).split(\" \")[0]\n",
    "    # первое слово после Mrs. or Miss. or else\n",
    "    m1 = re.search(\".*\\\\. ([A-Za-z]*)\", name)\n",
    "    return m1.group(1)\n",
    "\n",
    "female = data.loc[data['Sex'] == 'female']['Name'].map(extract_first_name)\n",
    "most_popular_female_name = female.value_counts().keys()[0]\n",
    "save_answ(number=6, answer=(\"%s\" % most_popular_female_name) )"
   ]
  }
 ],
 "metadata": {
  "kernelspec": {
   "display_name": "Python 2",
   "language": "python",
   "name": "python2"
  },
  "language_info": {
   "codemirror_mode": {
    "name": "ipython",
    "version": 2
   },
   "file_extension": ".py",
   "mimetype": "text/x-python",
   "name": "python",
   "nbconvert_exporter": "python",
   "pygments_lexer": "ipython2",
   "version": "2.7.12"
  }
 },
 "nbformat": 4,
 "nbformat_minor": 2
}

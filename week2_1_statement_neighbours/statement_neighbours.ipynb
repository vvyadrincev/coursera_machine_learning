{
 "cells": [
  {
   "cell_type": "code",
   "execution_count": 7,
   "metadata": {},
   "outputs": [],
   "source": [
    "import numpy as np\n",
    "import re\n",
    "import pandas\n",
    "from sklearn.model_selection import KFold\n",
    "from sklearn.neighbors import KNeighborsClassifier\n",
    "from sklearn.model_selection import cross_val_score\n",
    "from sklearn import preprocessing\n",
    "\n",
    "\n",
    "import sys\n",
    "sys.path.append(\"../\")\n",
    "from utils import save_answ, logging"
   ]
  },
  {
   "cell_type": "code",
   "execution_count": 8,
   "metadata": {},
   "outputs": [
    {
     "name": "stdout",
     "output_type": "stream",
     "text": [
      "   14.23  1.71  2.43  15.6  127   2.8  3.06   .28  2.29  5.64  1.04  3.92  \\\n",
      "0  13.20  1.78  2.14  11.2  100  2.65  2.76  0.26  1.28  4.38  1.05  3.40   \n",
      "1  13.16  2.36  2.67  18.6  101  2.80  3.24  0.30  2.81  5.68  1.03  3.17   \n",
      "\n",
      "   1065  \n",
      "0  1050  \n",
      "1  1185  \n",
      "   1\n",
      "0  1\n",
      "1  1\n"
     ]
    }
   ],
   "source": [
    "X = pandas.read_csv ('wine.data', index_col=False, usecols=range(1,14))\n",
    "y = pandas.read_csv ('wine.data', index_col=False, usecols=range(0,1))\n",
    "print X.head(2)\n",
    "print y.head(2)\n",
    "X = X.as_matrix()\n",
    "y = y.as_matrix().reshape((177,))"
   ]
  },
  {
   "cell_type": "code",
   "execution_count": 9,
   "metadata": {},
   "outputs": [
    {
     "name": "stdout",
     "output_type": "stream",
     "text": [
      "<type 'numpy.ndarray'> 177 (177, 13)\n",
      "<type 'numpy.ndarray'> 177 (177,)\n"
     ]
    }
   ],
   "source": [
    "print type(X), len(X), X.shape\n",
    "print type(y), len(y), y.shape"
   ]
  },
  {
   "cell_type": "code",
   "execution_count": 10,
   "metadata": {},
   "outputs": [],
   "source": [
    "def calculate_accuracy (X, y):\n",
    "    kf = KFold(n_splits=5, random_state=42, shuffle=True)\n",
    "\n",
    "    accuracy_max = .0\n",
    "    n_neighbors_max = 0\n",
    "    for n_neighbors in range(1,51):\n",
    "        classifier_neigh = KNeighborsClassifier(n_neighbors=n_neighbors)\n",
    "        scores = cross_val_score(X=X,y=y, cv=kf, n_jobs=-1, estimator=classifier_neigh)\n",
    "        accuracy = scores.mean()\n",
    "        if accuracy > accuracy_max:\n",
    "            accuracy_max = accuracy\n",
    "            n_neighbors_max = n_neighbors\n",
    "\n",
    "        logging.info(\" n_neighbors: %i, Accuracy: %0.2f (+/- %0.2f)\" % (n_neighbors, scores.mean(), scores.std() * 2))\n",
    "    \n",
    "    print \"MAX: \", accuracy_max, n_neighbors_max\n",
    "    \n",
    "    return n_neighbors_max, accuracy_max"
   ]
  },
  {
   "cell_type": "code",
   "execution_count": 11,
   "metadata": {},
   "outputs": [
    {
     "name": "stderr",
     "output_type": "stream",
     "text": [
      "2017-12-13 01:51:21,772: n_neighbors: 1, Accuracy: 0.74 (+/- 0.14)\n",
      "2017-12-13 01:51:22,001: n_neighbors: 2, Accuracy: 0.67 (+/- 0.11)\n",
      "2017-12-13 01:51:22,218: n_neighbors: 3, Accuracy: 0.72 (+/- 0.17)\n",
      "2017-12-13 01:51:22,417: n_neighbors: 4, Accuracy: 0.65 (+/- 0.14)\n",
      "2017-12-13 01:51:22,613: n_neighbors: 5, Accuracy: 0.71 (+/- 0.12)\n",
      "2017-12-13 01:51:22,800: n_neighbors: 6, Accuracy: 0.69 (+/- 0.10)\n",
      "2017-12-13 01:51:22,999: n_neighbors: 7, Accuracy: 0.72 (+/- 0.10)\n",
      "2017-12-13 01:51:23,215: n_neighbors: 8, Accuracy: 0.70 (+/- 0.11)\n",
      "2017-12-13 01:51:23,425: n_neighbors: 9, Accuracy: 0.71 (+/- 0.17)\n",
      "2017-12-13 01:51:23,621: n_neighbors: 10, Accuracy: 0.68 (+/- 0.10)\n",
      "2017-12-13 01:51:23,791: n_neighbors: 11, Accuracy: 0.68 (+/- 0.11)\n",
      "2017-12-13 01:51:23,975: n_neighbors: 12, Accuracy: 0.68 (+/- 0.08)\n",
      "2017-12-13 01:51:24,189: n_neighbors: 13, Accuracy: 0.72 (+/- 0.11)\n",
      "2017-12-13 01:51:24,408: n_neighbors: 14, Accuracy: 0.72 (+/- 0.08)\n",
      "2017-12-13 01:51:24,596: n_neighbors: 15, Accuracy: 0.74 (+/- 0.11)\n",
      "2017-12-13 01:51:24,775: n_neighbors: 16, Accuracy: 0.73 (+/- 0.10)\n",
      "2017-12-13 01:51:24,968: n_neighbors: 17, Accuracy: 0.73 (+/- 0.10)\n",
      "2017-12-13 01:51:25,147: n_neighbors: 18, Accuracy: 0.73 (+/- 0.10)\n",
      "2017-12-13 01:51:25,331: n_neighbors: 19, Accuracy: 0.72 (+/- 0.08)\n",
      "2017-12-13 01:51:25,514: n_neighbors: 20, Accuracy: 0.73 (+/- 0.10)\n",
      "2017-12-13 01:51:25,708: n_neighbors: 21, Accuracy: 0.71 (+/- 0.08)\n",
      "2017-12-13 01:51:25,919: n_neighbors: 22, Accuracy: 0.71 (+/- 0.08)\n",
      "2017-12-13 01:51:26,120: n_neighbors: 23, Accuracy: 0.71 (+/- 0.08)\n",
      "2017-12-13 01:51:26,351: n_neighbors: 24, Accuracy: 0.72 (+/- 0.11)\n",
      "2017-12-13 01:51:26,575: n_neighbors: 25, Accuracy: 0.73 (+/- 0.10)\n",
      "2017-12-13 01:51:26,791: n_neighbors: 26, Accuracy: 0.72 (+/- 0.12)\n",
      "2017-12-13 01:51:26,996: n_neighbors: 27, Accuracy: 0.73 (+/- 0.10)\n",
      "2017-12-13 01:51:27,220: n_neighbors: 28, Accuracy: 0.73 (+/- 0.07)\n",
      "2017-12-13 01:51:27,441: n_neighbors: 29, Accuracy: 0.72 (+/- 0.08)\n",
      "2017-12-13 01:51:27,664: n_neighbors: 30, Accuracy: 0.72 (+/- 0.07)\n",
      "2017-12-13 01:51:27,880: n_neighbors: 31, Accuracy: 0.72 (+/- 0.08)\n",
      "2017-12-13 01:51:28,072: n_neighbors: 32, Accuracy: 0.72 (+/- 0.07)\n",
      "2017-12-13 01:51:28,280: n_neighbors: 33, Accuracy: 0.72 (+/- 0.07)\n",
      "2017-12-13 01:51:28,502: n_neighbors: 34, Accuracy: 0.71 (+/- 0.09)\n",
      "2017-12-13 01:51:28,707: n_neighbors: 35, Accuracy: 0.71 (+/- 0.09)\n",
      "2017-12-13 01:51:28,932: n_neighbors: 36, Accuracy: 0.70 (+/- 0.07)\n",
      "2017-12-13 01:51:29,116: n_neighbors: 37, Accuracy: 0.71 (+/- 0.11)\n",
      "2017-12-13 01:51:29,325: n_neighbors: 38, Accuracy: 0.70 (+/- 0.10)\n",
      "2017-12-13 01:51:29,534: n_neighbors: 39, Accuracy: 0.71 (+/- 0.11)\n",
      "2017-12-13 01:51:29,726: n_neighbors: 40, Accuracy: 0.71 (+/- 0.11)\n",
      "2017-12-13 01:51:29,962: n_neighbors: 41, Accuracy: 0.71 (+/- 0.11)\n",
      "2017-12-13 01:51:30,159: n_neighbors: 42, Accuracy: 0.71 (+/- 0.11)\n",
      "2017-12-13 01:51:30,369: n_neighbors: 43, Accuracy: 0.71 (+/- 0.11)\n",
      "2017-12-13 01:51:30,610: n_neighbors: 44, Accuracy: 0.70 (+/- 0.10)\n",
      "2017-12-13 01:51:30,837: n_neighbors: 45, Accuracy: 0.70 (+/- 0.10)\n",
      "2017-12-13 01:51:31,040: n_neighbors: 46, Accuracy: 0.71 (+/- 0.11)\n",
      "2017-12-13 01:51:31,230: n_neighbors: 47, Accuracy: 0.70 (+/- 0.10)\n",
      "2017-12-13 01:51:31,435: n_neighbors: 48, Accuracy: 0.70 (+/- 0.07)\n",
      "2017-12-13 01:51:31,640: n_neighbors: 49, Accuracy: 0.70 (+/- 0.07)\n",
      "2017-12-13 01:51:31,812: n_neighbors: 50, Accuracy: 0.70 (+/- 0.07)\n"
     ]
    },
    {
     "name": "stdout",
     "output_type": "stream",
     "text": [
      "MAX:  0.735238095238 1\n",
      "Rewrite 'answers/1_answ.txt'? [Y/N]y\n"
     ]
    },
    {
     "name": "stderr",
     "output_type": "stream",
     "text": [
      "2017-12-13 01:51:33,545:Saved '1' to 'answers/1_answ.txt'\n"
     ]
    },
    {
     "name": "stdout",
     "output_type": "stream",
     "text": [
      "Rewrite 'answers/2_answ.txt'? [Y/N]y\n"
     ]
    },
    {
     "name": "stderr",
     "output_type": "stream",
     "text": [
      "2017-12-13 01:51:34,014:Saved '0.74' to 'answers/2_answ.txt'\n"
     ]
    }
   ],
   "source": [
    "n_neighbors_max, accuracy_max = calculate_accuracy (X, y)\n",
    "save_answ(number=1, answer=(\"%i\" % n_neighbors_max) )\n",
    "save_answ(number=2, answer=(\"%.2f\" % accuracy_max) )"
   ]
  },
  {
   "cell_type": "markdown",
   "metadata": {},
   "source": [
    "### Масштабирование признаков"
   ]
  },
  {
   "cell_type": "code",
   "execution_count": 12,
   "metadata": {},
   "outputs": [
    {
     "name": "stderr",
     "output_type": "stream",
     "text": [
      "2017-12-13 01:51:34,260: n_neighbors: 1, Accuracy: 0.95 (+/- 0.06)\n",
      "2017-12-13 01:51:34,499: n_neighbors: 2, Accuracy: 0.94 (+/- 0.04)\n",
      "2017-12-13 01:51:34,689: n_neighbors: 3, Accuracy: 0.94 (+/- 0.06)\n",
      "2017-12-13 01:51:34,875: n_neighbors: 4, Accuracy: 0.94 (+/- 0.07)\n",
      "2017-12-13 01:51:35,081: n_neighbors: 5, Accuracy: 0.95 (+/- 0.05)\n",
      "2017-12-13 01:51:35,301: n_neighbors: 6, Accuracy: 0.95 (+/- 0.05)\n",
      "2017-12-13 01:51:35,526: n_neighbors: 7, Accuracy: 0.97 (+/- 0.04)\n",
      "2017-12-13 01:51:35,761: n_neighbors: 8, Accuracy: 0.97 (+/- 0.06)\n",
      "2017-12-13 01:51:35,950: n_neighbors: 9, Accuracy: 0.96 (+/- 0.06)\n",
      "2017-12-13 01:51:36,132: n_neighbors: 10, Accuracy: 0.97 (+/- 0.04)\n",
      "2017-12-13 01:51:36,377: n_neighbors: 11, Accuracy: 0.96 (+/- 0.06)\n",
      "2017-12-13 01:51:36,580: n_neighbors: 12, Accuracy: 0.96 (+/- 0.06)\n",
      "2017-12-13 01:51:36,805: n_neighbors: 13, Accuracy: 0.96 (+/- 0.06)\n",
      "2017-12-13 01:51:36,970: n_neighbors: 14, Accuracy: 0.96 (+/- 0.06)\n",
      "2017-12-13 01:51:37,148: n_neighbors: 15, Accuracy: 0.97 (+/- 0.04)\n",
      "2017-12-13 01:51:37,324: n_neighbors: 16, Accuracy: 0.96 (+/- 0.06)\n",
      "2017-12-13 01:51:37,565: n_neighbors: 17, Accuracy: 0.96 (+/- 0.06)\n",
      "2017-12-13 01:51:37,792: n_neighbors: 18, Accuracy: 0.96 (+/- 0.09)\n",
      "2017-12-13 01:51:38,023: n_neighbors: 19, Accuracy: 0.97 (+/- 0.07)\n",
      "2017-12-13 01:51:38,207: n_neighbors: 20, Accuracy: 0.97 (+/- 0.07)\n",
      "2017-12-13 01:51:38,397: n_neighbors: 21, Accuracy: 0.97 (+/- 0.05)\n",
      "2017-12-13 01:51:38,594: n_neighbors: 22, Accuracy: 0.96 (+/- 0.07)\n",
      "2017-12-13 01:51:38,807: n_neighbors: 23, Accuracy: 0.97 (+/- 0.05)\n",
      "2017-12-13 01:51:39,036: n_neighbors: 24, Accuracy: 0.97 (+/- 0.05)\n",
      "2017-12-13 01:51:39,251: n_neighbors: 25, Accuracy: 0.97 (+/- 0.05)\n",
      "2017-12-13 01:51:39,486: n_neighbors: 26, Accuracy: 0.97 (+/- 0.05)\n",
      "2017-12-13 01:51:39,712: n_neighbors: 27, Accuracy: 0.97 (+/- 0.05)\n",
      "2017-12-13 01:51:39,917: n_neighbors: 28, Accuracy: 0.98 (+/- 0.04)\n",
      "2017-12-13 01:51:40,130: n_neighbors: 29, Accuracy: 0.98 (+/- 0.04)\n",
      "2017-12-13 01:51:40,346: n_neighbors: 30, Accuracy: 0.98 (+/- 0.04)\n",
      "2017-12-13 01:51:40,555: n_neighbors: 31, Accuracy: 0.98 (+/- 0.04)\n",
      "2017-12-13 01:51:40,789: n_neighbors: 32, Accuracy: 0.98 (+/- 0.04)\n",
      "2017-12-13 01:51:40,996: n_neighbors: 33, Accuracy: 0.98 (+/- 0.04)\n",
      "2017-12-13 01:51:41,236: n_neighbors: 34, Accuracy: 0.98 (+/- 0.04)\n",
      "2017-12-13 01:51:41,478: n_neighbors: 35, Accuracy: 0.98 (+/- 0.04)\n",
      "2017-12-13 01:51:41,744: n_neighbors: 36, Accuracy: 0.98 (+/- 0.04)\n",
      "2017-12-13 01:51:41,934: n_neighbors: 37, Accuracy: 0.98 (+/- 0.04)\n",
      "2017-12-13 01:51:42,130: n_neighbors: 38, Accuracy: 0.97 (+/- 0.06)\n",
      "2017-12-13 01:51:42,344: n_neighbors: 39, Accuracy: 0.97 (+/- 0.07)\n",
      "2017-12-13 01:51:42,576: n_neighbors: 40, Accuracy: 0.97 (+/- 0.06)\n",
      "2017-12-13 01:51:42,805: n_neighbors: 41, Accuracy: 0.97 (+/- 0.07)\n",
      "2017-12-13 01:51:43,030: n_neighbors: 42, Accuracy: 0.97 (+/- 0.06)\n",
      "2017-12-13 01:51:43,215: n_neighbors: 43, Accuracy: 0.97 (+/- 0.06)\n",
      "2017-12-13 01:51:43,430: n_neighbors: 44, Accuracy: 0.97 (+/- 0.07)\n",
      "2017-12-13 01:51:43,606: n_neighbors: 45, Accuracy: 0.97 (+/- 0.07)\n",
      "2017-12-13 01:51:43,825: n_neighbors: 46, Accuracy: 0.97 (+/- 0.07)\n",
      "2017-12-13 01:51:44,041: n_neighbors: 47, Accuracy: 0.97 (+/- 0.07)\n",
      "2017-12-13 01:51:44,228: n_neighbors: 48, Accuracy: 0.97 (+/- 0.07)\n",
      "2017-12-13 01:51:44,437: n_neighbors: 49, Accuracy: 0.97 (+/- 0.06)\n",
      "2017-12-13 01:51:44,666: n_neighbors: 50, Accuracy: 0.97 (+/- 0.06)\n"
     ]
    },
    {
     "name": "stdout",
     "output_type": "stream",
     "text": [
      "MAX:  0.977301587302 28\n",
      "Rewrite 'answers/3_answ.txt'? [Y/N]y\n"
     ]
    },
    {
     "name": "stderr",
     "output_type": "stream",
     "text": [
      "2017-12-13 01:51:46,645:Saved '28' to 'answers/3_answ.txt'\n"
     ]
    },
    {
     "name": "stdout",
     "output_type": "stream",
     "text": [
      "Rewrite 'answers/4_answ.txt'? [Y/N]y\n"
     ]
    },
    {
     "name": "stderr",
     "output_type": "stream",
     "text": [
      "2017-12-13 01:51:47,138:Saved '0.98' to 'answers/4_answ.txt'\n"
     ]
    }
   ],
   "source": [
    "X_scaled = preprocessing.scale(X)\n",
    "n_neighbors_max, accuracy_max = calculate_accuracy (X_scaled, y)\n",
    "save_answ(number=3, answer=(\"%i\" % n_neighbors_max) )\n",
    "save_answ(number=4, answer=(\"%.2f\" % accuracy_max) )"
   ]
  },
  {
   "cell_type": "code",
   "execution_count": null,
   "metadata": {},
   "outputs": [],
   "source": []
  }
 ],
 "metadata": {
  "kernelspec": {
   "display_name": "Python 2",
   "language": "python",
   "name": "python2"
  },
  "language_info": {
   "codemirror_mode": {
    "name": "ipython",
    "version": 2
   },
   "file_extension": ".py",
   "mimetype": "text/x-python",
   "name": "python",
   "nbconvert_exporter": "python",
   "pygments_lexer": "ipython2",
   "version": "2.7.12"
  }
 },
 "nbformat": 4,
 "nbformat_minor": 2
}
